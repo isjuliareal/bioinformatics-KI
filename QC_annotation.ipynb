{
 "cells": [
  {
   "cell_type": "code",
   "execution_count": null,
   "id": "932182a1-eb05-4112-bf07-fc7e83354671",
   "metadata": {},
   "outputs": [],
   "source": [
    "import numpy as np\n",
    "import pandas as pd\n",
    "import scanpy as sc"
   ]
  },
  {
   "cell_type": "code",
   "execution_count": null,
   "id": "9f60b4b0-23d7-46dd-a62f-76d59e0114aa",
   "metadata": {},
   "outputs": [],
   "source": [
    "sc.settings.verbosity = 3             # verbosity: errors (0), warnings (1), info (2), hints (3)\n",
    "sc.logging.print_header()     # versions that might influence the numerical results, matplotlib and seaborn are excluded \n",
    "sc.settings.set_figure_params(dpi=80, facecolor='white') "
   ]
  },
  {
   "cell_type": "markdown",
   "id": "aa94466e-cf26-4a51-8ae4-755750c0afeb",
   "metadata": {},
   "source": [
    "## analysis"
   ]
  },
  {
   "cell_type": "code",
   "execution_count": null,
   "id": "37159877-5118-4aa0-bfbd-07e9fe83ebb4",
   "metadata": {},
   "outputs": [],
   "source": [
    "data = sc.read_10x_mtx('raw_data')"
   ]
  },
  {
   "cell_type": "code",
   "execution_count": null,
   "id": "99de98ec-4488-4b4d-8c9c-3895366d502d",
   "metadata": {},
   "outputs": [],
   "source": [
    "data.var_names_make_unique() "
   ]
  },
  {
   "cell_type": "code",
   "execution_count": null,
   "id": "bec17a04-cc88-4e9f-ad6e-2cae30dfa449",
   "metadata": {},
   "outputs": [],
   "source": [
    "sc.pl.highest_expr_genes(data, n_top=20) #shows the top 20 expressed genes"
   ]
  },
  {
   "cell_type": "code",
   "execution_count": null,
   "id": "4278bdcd-4aff-4672-93ab-680a9a602946",
   "metadata": {},
   "outputs": [],
   "source": [
    "sc.pp.filter_cells(data, min_genes=300) #basic filtering, filtering out the cells with less than 300 genes and genes found \n",
    "sc.pp.filter_genes(data, min_cells=3)                        # less than 3 cells"
   ]
  },
  {
   "cell_type": "code",
   "execution_count": null,
   "id": "4e8c6a17-c898-4fa2-bc3e-2ef37a02f855",
   "metadata": {},
   "outputs": [],
   "source": [
    "data.var['mt'] = data.var_names.str.startswith('MT-')  # annotate the group of mitochondrial genes as 'mt'\n",
    "sc.pp.calculate_qc_metrics(data, qc_vars=['mt'], percent_top=None, log1p=False, inplace=True) \n",
    "    #Set to False to skip computing log1p transformed annotations\n",
    "sc.pl.violin(data, 'n_genes_by_counts')\n",
    "#plots - numbers of expressed genes - bt 400 and 2500? 3000?\n",
    "#2 ->total counts = cell size = counts of genes for each cells\n",
    "#3 -> percent of reads mapped to genes in the mitochondrial genome\n",
    "\n"
   ]
  },
  {
   "cell_type": "code",
   "execution_count": null,
   "id": "1bee38d0-1a48-42a8-adcb-6acc69327f24",
   "metadata": {},
   "outputs": [],
   "source": [
    "sc.pl.violin(data, 'total_counts') #jitter=0.4\n",
    "\n",
    "\n",
    "sc.pl.violin(data, 'pct_counts_mt')"
   ]
  },
  {
   "cell_type": "code",
   "execution_count": null,
   "id": "0508863d-1c33-42cd-b541-c9cdeb89ddbd",
   "metadata": {},
   "outputs": [],
   "source": [
    "sc.pl.scatter(data, x='total_counts', y='pct_counts_mt')\n",
    "sc.pl.scatter(data, x='total_counts', y='n_genes_by_counts')"
   ]
  },
  {
   "cell_type": "code",
   "execution_count": null,
   "id": "a3f7ddaf-c9b3-42fc-9c3b-f9244b9c9cca",
   "metadata": {},
   "outputs": [],
   "source": [
    "data = data[data.obs.n_genes_by_counts < 3000, :] #removing cells with too many counts \n",
    "#looking at the first plot, i chose 10 v and 3000 ^ but maybe it should actually be bit lower?\n",
    "data = data[data.obs.pct_counts_mt < 10, :]  #removing cells with too much mitochondrial genes"
   ]
  },
  {
   "cell_type": "code",
   "execution_count": null,
   "id": "43e2b4ec-949a-4943-ab75-9d69af93913c",
   "metadata": {},
   "outputs": [],
   "source": [
    "sc.pp.normalize_total(data, target_sum=1e4) #normalization, target_sum=1e4 -> CPM normalization"
   ]
  },
  {
   "cell_type": "code",
   "execution_count": null,
   "id": "94b4d61f-1c36-4f0e-abe4-a4f9fd48608c",
   "metadata": {},
   "outputs": [],
   "source": [
    "sc.pp.log1p(data) "
   ]
  },
  {
   "cell_type": "code",
   "execution_count": null,
   "id": "79eee490-b157-4e61-a35c-36533243d416",
   "metadata": {},
   "outputs": [],
   "source": [
    "sc.pp.highly_variable_genes(data, min_mean=0.0125, max_mean=3, min_disp=0.5) #identify highly-variable genes, \n",
    "                                                                                #expect log data"
   ]
  },
  {
   "cell_type": "code",
   "execution_count": null,
   "id": "a9355574-964d-4543-9454-8a7bdd3f332a",
   "metadata": {},
   "outputs": [],
   "source": [
    "sc.pl.highly_variable_genes(data)"
   ]
  },
  {
   "cell_type": "code",
   "execution_count": null,
   "id": "3d00741d-3dfe-4654-b4d1-0fbb0537a01d",
   "metadata": {},
   "outputs": [],
   "source": [
    "data.raw = data"
   ]
  },
  {
   "cell_type": "code",
   "execution_count": null,
   "id": "110cb863-576a-4f40-a60f-b6fef360e635",
   "metadata": {},
   "outputs": [],
   "source": [
    "data.obs.n_genes"
   ]
  },
  {
   "cell_type": "code",
   "execution_count": null,
   "id": "a2805098-9880-4a32-b53b-63dcddbe3286",
   "metadata": {},
   "outputs": [],
   "source": [
    "data = data[:, data.var.highly_variable]"
   ]
  },
  {
   "cell_type": "code",
   "execution_count": null,
   "id": "ae5e8e14-a350-45ce-b557-7236f7ba5b2c",
   "metadata": {},
   "outputs": [],
   "source": [
    "sc.pp.regress_out(data, ['total_counts', 'pct_counts_mt'])"
   ]
  },
  {
   "cell_type": "code",
   "execution_count": null,
   "id": "eefeda40-9b9c-4ec5-9776-502b00ea2e49",
   "metadata": {},
   "outputs": [],
   "source": [
    "sc.pp.scale(data, max_value=10)"
   ]
  },
  {
   "cell_type": "code",
   "execution_count": null,
   "id": "13a2921a-55e9-444a-8709-e080fb742585",
   "metadata": {},
   "outputs": [],
   "source": [
    "#PCA -> reduce the dimensiality of data -> smaller data sets are easier to explore and visualize\n",
    "sc.tl.pca(data, n_comps=50, svd_solver='arpack')\n",
    "#sc.pl.pca(data, color='MALAT1')\n",
    "sc.pl.pca_overview(data, components=['1,2', '2,3'])"
   ]
  },
  {
   "cell_type": "code",
   "execution_count": null,
   "id": "fb2d6e32-7764-41a6-93b3-b1f713670034",
   "metadata": {},
   "outputs": [],
   "source": [
    "sc.pl.pca_overview(data, color=[\"CD68\", \"LYZ\", \"GZMB\"])"
   ]
  },
  {
   "cell_type": "code",
   "execution_count": null,
   "id": "8a064b67-591e-4f0e-b62a-5decd6751b62",
   "metadata": {},
   "outputs": [],
   "source": [
    "sc.pl.pca_variance_ratio(data, log=True,  n_pcs=50) #to know how many PCs should be considered to compute the neighbourhood\n",
    "                                            #relations of cells"
   ]
  },
  {
   "cell_type": "code",
   "execution_count": null,
   "id": "cc146bb4-2594-45c7-96cf-0c2786a32fad",
   "metadata": {},
   "outputs": [],
   "source": [
    "sc.pp.neighbors(data, n_neighbors=10, n_pcs=8) #looking at the plot above i decided to choose 22 PC as the plot is \n",
    "sc.tl.umap(data)                                   #flattening there"
   ]
  },
  {
   "cell_type": "code",
   "execution_count": null,
   "id": "2d43ef68-e817-422c-9889-499c8e08124c",
   "metadata": {},
   "outputs": [],
   "source": [
    "sc.tl.leiden(data, key_added='leiden_res0_5', resolution=0.5)\n",
    "sc.pl.umap(data, color='leiden_res0_5', legend_fontsize=8)"
   ]
  },
  {
   "cell_type": "code",
   "execution_count": null,
   "id": "4c556e34-83aa-4070-9f55-a8aefd4c4abd",
   "metadata": {},
   "outputs": [],
   "source": [
    "#finding the marker genes \n",
    "            \n",
    "sc.tl.rank_genes_groups(data, 'leiden_res0_5', method='t-test') #by default a .raw data is used\n",
    "sc.pl.rank_genes_groups(data, n_genes=25, sharey=False)\n",
    "#that is a ranking for the highly differential genes in each cluster"
   ]
  },
  {
   "cell_type": "markdown",
   "id": "1a4c9b93-bf8e-447f-8d77-bdf33c14b4ed",
   "metadata": {},
   "source": [
    "## annotating"
   ]
  },
  {
   "cell_type": "code",
   "execution_count": null,
   "id": "62581785-d0b6-4b66-a956-58b6b4b32e27",
   "metadata": {},
   "outputs": [],
   "source": [
    "# my annotation\n",
    "# markers from Human resident liver myeloid cells protect against metabolic stress in obesity\n",
    "marker_genes_grouped = {'myeloid cells' : ['CD68', 'LYZ', 'CD14', 'LGALS3'],\n",
    "                'cDC1' : ['XCR1', 'CLEC9A', 'FLT3'],\n",
    "                'mast cells' : ['KIT', 'ENPP3'],\n",
    "                'B cells' : ['CD19', 'MS4A1', 'CD79A'],\n",
    "                'T cells' : ['CD3G', 'CD3D'],\n",
    "                'resident NK cells' : ['NCR1', 'KLRF1', 'CD7'],\n",
    "                'circulating NK and NKT cells' : ['GZMB', 'GNLY', 'FCGR3A'],\n",
    "                'endothelial cells': ['ENG', 'MCAM', 'LYVE1'],\n",
    "                'proliferating cells' : ['CDK1', 'CCNA2', 'PCNA'],\n",
    "                       'cholangiocytes' : ['EPCAM', 'SPP1', 'DDIT4L', 'SLC5A1', 'KRT7', 'KRT19', 'SOX9'],\n",
    "                       'stromal cells' : ['CARMN'],\n",
    "                       'plasma cells' : ['SDC1', 'MZB1', 'IGHG1'], #IGKC and IGLC2 slabe bo wszedzie widac\n",
    "                       'hepatocytes' : ['APOA2', 'TTR', 'CYP2E1', 'HAL', 'SDS'],\n",
    "                        'endothelial cells': ['ENG', 'MCAM', 'LYVE1', 'PECAM1','OIT3', 'F8','C1QTNF1', 'MMRN2', 'PCDH12'],\n",
    "                     'smooth muscle cells' : ['ACTA2'],\n",
    "                     'fibroplasts' : ['COL1A1', 'PDGFRA', 'COL1A2', 'CD34', 'FBLN1', 'COL5A1', 'LOXL1', 'LUM', 'FBLN1', 'FBLN2']\n",
    "                       }\n",
    "                      \n",
    "\n",
    "marker_genes = ['CD68', 'LYZ', 'CD14', 'LGALS3', 'XCR1', 'CLEC9A', 'FLT3', 'KIT', 'ENPP3', 'CD19', 'MS4A1', 'CD79A',\n",
    "               'CD3G', 'CD3D', 'NCR1', 'KLRF1', 'CD7', 'GZMB', 'GNLY', 'FCGR3A', 'ENG', 'MCAM', 'LYVE1', 'CDK1', 'CCNA2', 'PCNA']"
   ]
  },
  {
   "cell_type": "code",
   "execution_count": null,
   "id": "b405c1a0-9a61-415e-8730-952ea6622f02",
   "metadata": {},
   "outputs": [],
   "source": [
    "sc.pl.dotplot(data, marker_genes_grouped, groupby='leiden_res0_5')"
   ]
  },
  {
   "cell_type": "code",
   "execution_count": null,
   "id": "3bbc5e13-64c2-47b4-996f-dfa51b53ae31",
   "metadata": {},
   "outputs": [],
   "source": [
    "sc.pl.dotplot(data, marker_genes_grouped, groupby='my_annotation')"
   ]
  },
  {
   "cell_type": "code",
   "execution_count": null,
   "id": "57c73ecf-2292-454a-8efc-d873506cbbac",
   "metadata": {},
   "outputs": [],
   "source": [
    "#data.write(\"results_XX.h5ad\") "
   ]
  },
  {
   "cell_type": "code",
   "execution_count": null,
   "id": "274a31c7-8ede-409a-ac75-84407b925380",
   "metadata": {},
   "outputs": [],
   "source": [
    "sc.pl.dotplot(data, {'endothelial cells': ['ENG', 'MCAM', 'LYVE1', 'PECAM1','OIT3', 'F8','C1QTNF1', 'MMRN2', 'PCDH12'],\n",
    "                     'smc' : ['ACTA2'],\n",
    "                     'fibroplasts' : ['COL1A1', 'PDGFRA', 'COL1A2', 'CD34', 'FBLN1', 'COL5A1', 'LOXL1', 'LUM', 'FBLN1', 'FBLN2']},\n",
    "                     groupby='my_annotation')"
   ]
  },
  {
   "cell_type": "code",
   "execution_count": null,
   "id": "1338be3a-a439-491b-afa0-6f33ae06055e",
   "metadata": {},
   "outputs": [],
   "source": [
    "sc.pl.dotplot(data, marker_genes_grouped, groupby='my_annotation')"
   ]
  },
  {
   "cell_type": "code",
   "execution_count": null,
   "id": "7afe21b3-11aa-41e0-93f2-131ee722f1a3",
   "metadata": {},
   "outputs": [],
   "source": [
    "marker_heatmap_NK = {'B cells' : ['CD19', 'MS4A1', 'CD79A'],\n",
    "                    'NK cells' : ['GZMB', 'GNLY', 'KLRF1', 'CD7'],\n",
    "                    'T cells' : ['CD3G', 'CD3D'],\n",
    "                    'cholangiocytes' : ['EPCAM', 'SPP1', 'KRT7', 'KRT19'],\n",
    "                    'endothelial cells': ['ENG', 'MCAM', 'LYVE1'],\n",
    "                    'fibroblasts' : ['COL1A1', 'COL1A2', 'FBLN1'],\n",
    "                    'myeloid cells' : ['CD68', 'LYZ', 'CD14', 'LGALS3'],\n",
    "                    'pDC' : [ 'JCHAIN' , 'GZMB'], \n",
    "                    'plasma cells' : ['SDC1', 'MZB1', 'IGHG1'],#IGKC and IGLC2 slabe bo wszedzie widac\n",
    "                    'smooth muscle cells' : ['ACTA2', 'ADIRF']\n",
    "                }"
   ]
  },
  {
   "cell_type": "code",
   "execution_count": null,
   "id": "102a2b08-93a4-4b37-b824-57c86d04bd67",
   "metadata": {},
   "outputs": [],
   "source": [
    "sc.pl.heatmap(data, marker_heatmap_NK, groupby='my_annotation', show_gene_labels=True,  log=True, cmap='Reds')"
   ]
  },
  {
   "cell_type": "code",
   "execution_count": null,
   "id": "4d3902e1-edf5-487a-91f5-d4441ef96bdb",
   "metadata": {},
   "outputs": [],
   "source": [
    "sc.pl.matrixplot(data, marker_heatmap_NK, groupby='my_annotation', vmin=-2, vmax=2, cmap='RdBu')"
   ]
  },
  {
   "cell_type": "code",
   "execution_count": null,
   "id": "c04d08f2-bd7c-4d3f-9f2e-5412a3e36afe",
   "metadata": {},
   "outputs": [],
   "source": [
    "marker_genes_grouped = {'myeloid cells' : ['CD68', 'LYZ',  'LGALS3'], #'CD14',\n",
    "                   'cDC1' : ['XCR1'], #'CLEC9A', ,  'FLT3'\n",
    "                   'mast cells' : ['KIT'], #, 'ENPP3'\n",
    "                  'B cells' : [ 'MS4A1', 'CD79A'], #'CD19',\n",
    "                'T cells' : ['CD3G', 'CD3D'],\n",
    "                'resident NK cells' : ['KLRF1', 'CD7'], #'NCR1', \n",
    "                'circulating NK and NKT cells' : ['GZMB', 'GNLY', 'FCGR3A'],\n",
    "                'proliferating cells' : [ 'PCNA'], #'CCNA2' 'CDK1', \n",
    "                   'cholangiocytes' : [ 'SPP1',   'KRT7', 'KRT19'], #'DDIT4L', 'EPCAM', 'SLC5A1', , 'SOX9'\n",
    "                    'stromal cells' : ['CARMN'],\n",
    "                   'plasma cells' : [ 'MZB1', 'IGHG1'], #IGKC and IGLC2 slabe bo wszedzie widac #SDC1',\n",
    "                   'hepatocytes' : ['APOA2', 'TTR', 'CYP2E1' ], #'HAL','SDS'\n",
    "                    'endothelial cells': ['ENG', 'LYVE1','OIT3', 'F8'], #'C1QTNF1', 'MMRN2', , 'PCDH12  'PECAM1', 'MCAM', \n",
    "                     'smooth muscle cells' : [ 'ACTA2'], #'PALLD',\n",
    "                     'fibroplasts' : ['COL1A1',  'COL1A2', 'CD34',  'LUM', 'FBLN1', ], #'COL5A1', 'FBLN2' 'LOXL1','PDGFRA',\n",
    "                    'erythroid cells' : ['HBB', 'CA1'] \n",
    "                       }\n",
    "                      \n",
    "sc.pl.dotplot(data, marker_genes_grouped, groupby='leiden_res0_7')"
   ]
  },
  {
   "cell_type": "code",
   "execution_count": null,
   "id": "38cef850-e4ee-4fb6-be06-9efe23d059a8",
   "metadata": {},
   "outputs": [],
   "source": [
    "annotation = {\n",
    "     '0': '',                  \n",
    "     '1': '',                           \n",
    "     '2': '',\n",
    "     '3': '',               \n",
    "     '4': '',      \n",
    "    '5' : '',                     \n",
    "    '6' : '',                 \n",
    "    '7' : '',                     \n",
    "    '8' : '',                          \n",
    "    '9' : '',                     \n",
    "    '10' : '',     \n",
    "    '11' : '',                    \n",
    "    '12' : '',\n",
    "    '13' : '',\n",
    "    '14' : '',\n",
    "    '15' : ''}             \n",
    "\n",
    "data.obs['my_annotation'] = data.obs['leiden_res0_5'].map(annotation1).astype('category')\n",
    "\n",
    "sc.pl.umap(data, color=['my_annotation'] )  "
   ]
  },
  {
   "cell_type": "code",
   "execution_count": null,
   "id": "b47f3133-04af-4abc-b15d-9f0476ebc0a1",
   "metadata": {},
   "outputs": [],
   "source": []
  },
  {
   "cell_type": "code",
   "execution_count": null,
   "id": "b9ec512e-a0dd-4d87-9e1f-44deb1b9836b",
   "metadata": {},
   "outputs": [],
   "source": []
  }
 ],
 "metadata": {
  "kernelspec": {
   "display_name": "Python 3 (ipykernel)",
   "language": "python",
   "name": "python3"
  },
  "language_info": {
   "codemirror_mode": {
    "name": "ipython",
    "version": 3
   },
   "file_extension": ".py",
   "mimetype": "text/x-python",
   "name": "python",
   "nbconvert_exporter": "python",
   "pygments_lexer": "ipython3",
   "version": "3.13.5"
  }
 },
 "nbformat": 4,
 "nbformat_minor": 5
}
